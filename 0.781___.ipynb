{
 "cells": [
  {
   "cell_type": "code",
   "execution_count": 52,
   "metadata": {
    "scrolled": false
   },
   "outputs": [
    {
     "name": "stdout",
     "output_type": "stream",
     "text": [
      "R2:\t0.937\n",
      "RMSE:\t23314.762\n",
      "MSE:\t543578112.145\n",
      "i = 90\n",
      "\n"
     ]
    }
   ],
   "source": [
    "import pandas as pd \n",
    "from sklearn.ensemble import RandomForestRegressor\n",
    "from sklearn.model_selection import GridSearchCV\n",
    "from sklearn.metrics import mean_squared_error as mse, r2_score as r2\n",
    "import numpy as np\n",
    "import matplotlib.pyplot as plt\n",
    "import seaborn as sns\n",
    "%matplotlib inline\n",
    "\n",
    "\n",
    "def evaluate_preds(true_values, pred_values, save=False):\n",
    "    \"\"\"Оценка качества модели и график preds vs true\"\"\"\n",
    "    \n",
    "    print(\"R2:\\t\" + str(round(r2(true_values, pred_values), 3)) + \"\\n\" +\n",
    "          \"RMSE:\\t\" + str(round(np.sqrt(mse(true_values, pred_values)), 3)) + \"\\n\" +\n",
    "          \"MSE:\\t\" + str(round(mse(true_values, pred_values), 3)) + '\\ni = ' + str(i) + '\\n'\n",
    "         )\n",
    "    \n",
    "#     plt.figure(figsize=(8,8))\n",
    "    \n",
    "#     sns.scatterplot(x=pred_values, y=true_values)\n",
    "#     plt.plot([0, 700000], [0, 700000], linestyle='--', color='black')  # диагональ, где true_values = pred_values\n",
    "    \n",
    "#     plt.xlabel('Predicted values')\n",
    "#     plt.ylabel('True values')\n",
    "#     plt.title('True vs Predicted values')\n",
    "    \n",
    "#     if save == True:\n",
    "#         plt.savefig(REPORTS_FILE_PATH + 'report.png')\n",
    "#     plt.show()\n",
    "\n",
    "df = pd.read_csv('Kurs_project_task/train.csv')\n",
    "df = pd.get_dummies(df)\n",
    "corrmat = df.corr()\n",
    "\n",
    "to_del = [\"Id\", \"DistrictId\", \"LifeSquare\", \"Healthcare_1\"]\n",
    "columns_for_delete = []\n",
    "for key, value in df.isna().sum().sort_values().items():\n",
    "    if value > 0:\n",
    "        columns_for_delete.append(key)\n",
    "\n",
    "cor_columns = corrmat[corrmat['Price'] < 0.05]['Price'].sort_values()\n",
    "for key,value in cor_columns.items():\n",
    "    if key not in columns_for_delete:\n",
    "        columns_for_delete.append(key)\n",
    "\n",
    "for key in to_del:\n",
    "    if key not in columns_for_delete:\n",
    "        columns_for_delete.append(key)\n",
    "        \n",
    "X = df.drop('Price', axis=1)\n",
    "y = df['Price']\n",
    "\n",
    "X_final = pd.read_csv('Kurs_project_task/test.csv')\n",
    "X_final = pd.get_dummies(X_final)\n",
    "\n",
    "preds_final = pd.DataFrame()\n",
    "preds_final['Id'] = X_final['Id'].copy()\n",
    "\n",
    "X.drop(columns_for_delete, axis=1, inplace=True)\n",
    "X_final.drop(columns_for_delete, axis=1, inplace=True)\n",
    "\n",
    "#for i in range(10, 1000, 10):\n",
    "model = RandomForestRegressor(n_estimators=1000, max_depth=16, random_state=42, max_features=7)\n",
    "model.fit(X, y)\n",
    "\n",
    "y_pred_final = model.predict(X_final)\n",
    "\n",
    "y_train_pred = model.predict(X)\n",
    "evaluate_preds(y, y_train_pred)\n",
    "preds_final['Price'] = y_pred_final\n",
    "preds_final.to_csv('4_predictions.csv', index=False)"
   ]
  },
  {
   "cell_type": "code",
   "execution_count": 53,
   "metadata": {},
   "outputs": [
    {
     "data": {
      "text/plain": [
       "['LifeSquare',\n",
       " 'Healthcare_1',\n",
       " 'Shops_2_A',\n",
       " 'Ecology_1',\n",
       " 'Ecology_3_B',\n",
       " 'Ecology_2_A',\n",
       " 'HouseYear',\n",
       " 'Id',\n",
       " 'Ecology_2_B',\n",
       " 'KitchenSquare',\n",
       " 'DistrictId']"
      ]
     },
     "execution_count": 53,
     "metadata": {},
     "output_type": "execute_result"
    }
   ],
   "source": [
    "columns_for_delete"
   ]
  },
  {
   "cell_type": "code",
   "execution_count": null,
   "metadata": {},
   "outputs": [],
   "source": []
  }
 ],
 "metadata": {
  "kernelspec": {
   "display_name": "Python 3",
   "language": "python",
   "name": "python3"
  },
  "language_info": {
   "codemirror_mode": {
    "name": "ipython",
    "version": 3
   },
   "file_extension": ".py",
   "mimetype": "text/x-python",
   "name": "python",
   "nbconvert_exporter": "python",
   "pygments_lexer": "ipython3",
   "version": "3.8.1"
  }
 },
 "nbformat": 4,
 "nbformat_minor": 4
}
